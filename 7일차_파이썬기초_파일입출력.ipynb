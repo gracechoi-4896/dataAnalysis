{
  "nbformat": 4,
  "nbformat_minor": 0,
  "metadata": {
    "colab": {
      "provenance": [],
      "authorship_tag": "ABX9TyNUGa8YG8TcHfMYCqr4tZK+",
      "include_colab_link": true
    },
    "kernelspec": {
      "name": "python3",
      "display_name": "Python 3"
    },
    "language_info": {
      "name": "python"
    }
  },
  "cells": [
    {
      "cell_type": "markdown",
      "metadata": {
        "id": "view-in-github",
        "colab_type": "text"
      },
      "source": [
        "<a href=\"https://colab.research.google.com/github/gracechoi-4896/dataAnalysis/blob/main/7%EC%9D%BC%EC%B0%A8_%ED%8C%8C%EC%9D%B4%EC%8D%AC%EA%B8%B0%EC%B4%88_%ED%8C%8C%EC%9D%BC%EC%9E%85%EC%B6%9C%EB%A0%A5.ipynb\" target=\"_parent\"><img src=\"https://colab.research.google.com/assets/colab-badge.svg\" alt=\"Open In Colab\"/></a>"
      ]
    },
    {
      "cell_type": "markdown",
      "source": [
        "# 6.파일 입출력(TXT)"
      ],
      "metadata": {
        "id": "n23yWqsLmMt_"
      }
    },
    {
      "cell_type": "markdown",
      "source": [
        "## 6-1.TXT"
      ],
      "metadata": {
        "id": "l1w5doevmTZX"
      }
    },
    {
      "cell_type": "markdown",
      "source": [
        "# 파일 입출력"
      ],
      "metadata": {
        "id": "8Dh0iOZGmhmP"
      }
    },
    {
      "cell_type": "code",
      "execution_count": 8,
      "metadata": {
        "id": "3FI6-iXckTCF"
      },
      "outputs": [],
      "source": [
        "# 파일에 쓰기\n",
        "f = open(\"./새파일.txt\", 'w')\n",
        "for i in range(1,11):\n",
        "  f.write(f\"{i:2>}번째 줄입니다.\\n\")\n",
        "f.close()"
      ]
    },
    {
      "cell_type": "markdown",
      "source": [
        "- readline()\n",
        "- readlines()\n",
        "- read()"
      ],
      "metadata": {
        "id": "5xl1RV5norpu"
      }
    },
    {
      "cell_type": "code",
      "source": [
        "# readline() 사용\n",
        "f = open('./새파일.txt', 'r')\n",
        "line = f.readline()\n",
        "print(line)\n",
        "print('-'*10)\n",
        "while True:\n",
        "  line = f.readline()\n",
        "  if not line:\n",
        "    break\n",
        "  print(line.strip())\n",
        "f.close()"
      ],
      "metadata": {
        "colab": {
          "base_uri": "https://localhost:8080/"
        },
        "id": "nOaHXSNfoJRn",
        "outputId": "a9da1451-7ac8-4a51-c684-70b59020434c"
      },
      "execution_count": 12,
      "outputs": [
        {
          "output_type": "stream",
          "name": "stdout",
          "text": [
            "1번째 줄입니다.\n",
            "\n",
            "----------\n",
            "2번째 줄입니다.\n",
            "3번째 줄입니다.\n",
            "4번째 줄입니다.\n",
            "5번째 줄입니다.\n",
            "6번째 줄입니다.\n",
            "7번째 줄입니다.\n",
            "8번째 줄입니다.\n",
            "9번째 줄입니다.\n",
            "10번째 줄입니다.\n"
          ]
        }
      ]
    },
    {
      "cell_type": "code",
      "source": [
        "# readlines() : 결과가 리스트로 출력됨?\n",
        "f = open('./새파일.txt', 'r')\n",
        "for line in f.readlines():\n",
        "  print(line.strip())\n",
        "f.close()"
      ],
      "metadata": {
        "colab": {
          "base_uri": "https://localhost:8080/"
        },
        "id": "DuW-l0mkpyO1",
        "outputId": "0bc33f45-ab37-4da4-aff0-f43a7f443f17"
      },
      "execution_count": 17,
      "outputs": [
        {
          "output_type": "stream",
          "name": "stdout",
          "text": [
            "1번째 줄입니다.\n",
            "2번째 줄입니다.\n",
            "3번째 줄입니다.\n",
            "4번째 줄입니다.\n",
            "5번째 줄입니다.\n",
            "6번째 줄입니다.\n",
            "7번째 줄입니다.\n",
            "8번째 줄입니다.\n",
            "9번째 줄입니다.\n",
            "10번째 줄입니다.\n"
          ]
        }
      ]
    },
    {
      "cell_type": "code",
      "source": [
        "# read() : 결과는 문자열로 변환\n",
        "f = open('./새파일.txt', 'r')\n",
        "line = f.read()\n",
        "print(line)\n",
        "f.close()"
      ],
      "metadata": {
        "colab": {
          "base_uri": "https://localhost:8080/"
        },
        "id": "e2PZGF_Xqd0U",
        "outputId": "a97a2fad-d04c-42e8-de06-5db2f6ede0c8"
      },
      "execution_count": 16,
      "outputs": [
        {
          "output_type": "stream",
          "name": "stdout",
          "text": [
            "1번째 줄입니다.\n",
            "2번째 줄입니다.\n",
            "3번째 줄입니다.\n",
            "4번째 줄입니다.\n",
            "5번째 줄입니다.\n",
            "6번째 줄입니다.\n",
            "7번째 줄입니다.\n",
            "8번째 줄입니다.\n",
            "9번째 줄입니다.\n",
            "10번째 줄입니다.\n",
            "\n"
          ]
        }
      ]
    },
    {
      "cell_type": "markdown",
      "source": [
        "### with 문\n",
        "with문을 벗어나면 자동으로 파일 객체를 닫는다."
      ],
      "metadata": {
        "id": "iDNykArHrocf"
      }
    },
    {
      "cell_type": "code",
      "source": [
        "with open('./새파일.txt', 'r') as f:\n",
        "  data = f.read()\n",
        "  print(type(data))\n",
        "  data = data.replace('줄','사람')\n",
        "  print(data)"
      ],
      "metadata": {
        "colab": {
          "base_uri": "https://localhost:8080/"
        },
        "id": "gSvXQGKRrnfY",
        "outputId": "a1fd37f5-d84c-4131-b576-2e594f71eefd"
      },
      "execution_count": 21,
      "outputs": [
        {
          "output_type": "stream",
          "name": "stdout",
          "text": [
            "<class 'str'>\n",
            "1번째 사람입니다.\n",
            "2번째 사람입니다.\n",
            "3번째 사람입니다.\n",
            "4번째 사람입니다.\n",
            "5번째 사람입니다.\n",
            "6번째 사람입니다.\n",
            "7번째 사람입니다.\n",
            "8번째 사람입니다.\n",
            "9번째 사람입니다.\n",
            "10번째 사람입니다.\n",
            "\n"
          ]
        }
      ]
    },
    {
      "cell_type": "markdown",
      "source": [
        "### os 모듈: 디렉토리 & 파일 관련 함수"
      ],
      "metadata": {
        "id": "PymCyT7QsvmF"
      }
    },
    {
      "cell_type": "code",
      "source": [
        "import os\n",
        "\n",
        "print(f\"현재위치: {os.getcwd()}\")\n",
        "print(f\"현재위치 파일/폴더 목록: {os.listdir()}\")\n",
        "# os.chdir('../')\n",
        "\n",
        "# print(f\"현재위치 파일/폴더 목록: {os.listdir()}\")"
      ],
      "metadata": {
        "colab": {
          "base_uri": "https://localhost:8080/"
        },
        "id": "pR1zuCOGsrSG",
        "outputId": "171c54d9-d859-4814-ff75-98e98d332317"
      },
      "execution_count": 24,
      "outputs": [
        {
          "output_type": "stream",
          "name": "stdout",
          "text": [
            "현재위치: /\n",
            "현재위치 파일/폴더 목록: ['srv', 'sys', 'mnt', 'dev', 'proc', 'lib32', 'lib64', 'home', 'libx32', 'var', 'root', 'run', 'sbin', 'tmp', 'usr', 'boot', 'bin', 'lib', 'media', 'etc', 'opt', 'content', 'kaggle', '.dockerenv', 'datalab', 'tools', 'NGC-DL-CONTAINER-LICENSE', 'cuda-keyring_1.0-1_all.deb']\n",
            "현재위치 파일/폴더 목록: ['srv', 'sys', 'mnt', 'dev', 'proc', 'lib32', 'lib64', 'home', 'libx32', 'var', 'root', 'run', 'sbin', 'tmp', 'usr', 'boot', 'bin', 'lib', 'media', 'etc', 'opt', 'content', 'kaggle', '.dockerenv', 'datalab', 'tools', 'NGC-DL-CONTAINER-LICENSE', 'cuda-keyring_1.0-1_all.deb']\n"
          ]
        }
      ]
    },
    {
      "cell_type": "code",
      "source": [
        "os.chdir('/content')"
      ],
      "metadata": {
        "id": "RBsX1rx9uNj1"
      },
      "execution_count": 25,
      "outputs": []
    },
    {
      "cell_type": "markdown",
      "source": [
        "- os.remove() : 파일 삭제"
      ],
      "metadata": {
        "id": "unFM6qr5ua3M"
      }
    },
    {
      "cell_type": "code",
      "source": [
        "import os\n",
        "file = '새파일.txt'\n",
        "if os.path.isfile(file):\n",
        "  os.remove(file)\n",
        "  print(f\"{file} 파일이 삭제되었습니다.\")\n",
        "else:\n",
        "  print(f\"{file} 파일이 존재하지 않습니다.\")"
      ],
      "metadata": {
        "colab": {
          "base_uri": "https://localhost:8080/"
        },
        "id": "gl0LUbbuugXs",
        "outputId": "477778bc-e78f-41af-b329-37214bc6d5b1"
      },
      "execution_count": 27,
      "outputs": [
        {
          "output_type": "stream",
          "name": "stdout",
          "text": [
            "새파일.txt 파일이 존재하지 않습니다.\n"
          ]
        }
      ]
    },
    {
      "cell_type": "code",
      "source": [
        "import random\n",
        "\n",
        "# 파일에 쓰기\n",
        "f = open('./sample.txt', 'w')\n",
        "for _ in range(10):\n",
        "  n = str(random.randint(1,100))\n",
        "  f.write(n+'\\n')  # 문자열로 사용 가능\n",
        "f.close()\n",
        "\n",
        "# 파일에 있는 내용 읽기?\n",
        "f = open('./sample.txt', 'r')\n",
        "data = f.read()\n",
        "print(data)\n",
        "f.close()"
      ],
      "metadata": {
        "colab": {
          "base_uri": "https://localhost:8080/"
        },
        "id": "RDZpB3Qrv-G8",
        "outputId": "5a123388-b8de-4e06-fd2b-991461c863ca"
      },
      "execution_count": 32,
      "outputs": [
        {
          "output_type": "stream",
          "name": "stdout",
          "text": [
            "40\n",
            "14\n",
            "63\n",
            "90\n",
            "9\n",
            "99\n",
            "94\n",
            "83\n",
            "13\n",
            "49\n",
            "\n"
          ]
        }
      ]
    },
    {
      "cell_type": "code",
      "source": [
        "f = open('./sample.txt', 'r')\n",
        "\n",
        "for line in f.readlines():\n",
        "  print(line.strip())\n",
        "print('총합은',{int(sum(line.strip()))},'입니다.')\n",
        "print('평균은',{int(sum(line.strip())/)},'입니다.')"
      ],
      "metadata": {
        "colab": {
          "base_uri": "https://localhost:8080/",
          "height": 366
        },
        "id": "gA9PI2Pqyxxc",
        "outputId": "857ce430-c754-4772-897c-0a7abb8b9dca"
      },
      "execution_count": 38,
      "outputs": [
        {
          "output_type": "stream",
          "name": "stdout",
          "text": [
            "40\n",
            "14\n",
            "63\n",
            "90\n",
            "9\n",
            "99\n",
            "94\n",
            "83\n",
            "13\n",
            "49\n"
          ]
        },
        {
          "output_type": "error",
          "ename": "TypeError",
          "evalue": "unsupported operand type(s) for +: 'int' and 'str'",
          "traceback": [
            "\u001b[0;31m---------------------------------------------------------------------------\u001b[0m",
            "\u001b[0;31mTypeError\u001b[0m                                 Traceback (most recent call last)",
            "\u001b[0;32m<ipython-input-38-be02a8d393b8>\u001b[0m in \u001b[0;36m<cell line: 5>\u001b[0;34m()\u001b[0m\n\u001b[1;32m      3\u001b[0m \u001b[0;32mfor\u001b[0m \u001b[0mline\u001b[0m \u001b[0;32min\u001b[0m \u001b[0mf\u001b[0m\u001b[0;34m.\u001b[0m\u001b[0mreadlines\u001b[0m\u001b[0;34m(\u001b[0m\u001b[0;34m)\u001b[0m\u001b[0;34m:\u001b[0m\u001b[0;34m\u001b[0m\u001b[0;34m\u001b[0m\u001b[0m\n\u001b[1;32m      4\u001b[0m   \u001b[0mprint\u001b[0m\u001b[0;34m(\u001b[0m\u001b[0mline\u001b[0m\u001b[0;34m.\u001b[0m\u001b[0mstrip\u001b[0m\u001b[0;34m(\u001b[0m\u001b[0;34m)\u001b[0m\u001b[0;34m)\u001b[0m\u001b[0;34m\u001b[0m\u001b[0;34m\u001b[0m\u001b[0m\n\u001b[0;32m----> 5\u001b[0;31m \u001b[0mprint\u001b[0m\u001b[0;34m(\u001b[0m\u001b[0;34m'총합은'\u001b[0m\u001b[0;34m,\u001b[0m\u001b[0;34m{\u001b[0m\u001b[0mstr\u001b[0m\u001b[0;34m(\u001b[0m\u001b[0mint\u001b[0m\u001b[0;34m(\u001b[0m\u001b[0msum\u001b[0m\u001b[0;34m(\u001b[0m\u001b[0mline\u001b[0m\u001b[0;34m.\u001b[0m\u001b[0mstrip\u001b[0m\u001b[0;34m(\u001b[0m\u001b[0;34m)\u001b[0m\u001b[0;34m)\u001b[0m\u001b[0;34m)\u001b[0m\u001b[0;34m)\u001b[0m\u001b[0;34m}\u001b[0m\u001b[0;34m,\u001b[0m\u001b[0;34m'입니다.'\u001b[0m\u001b[0;34m)\u001b[0m\u001b[0;34m\u001b[0m\u001b[0;34m\u001b[0m\u001b[0m\n\u001b[0m",
            "\u001b[0;31mTypeError\u001b[0m: unsupported operand type(s) for +: 'int' and 'str'"
          ]
        }
      ]
    },
    {
      "cell_type": "code",
      "source": [
        "# 파일 읽어서 총합&평균 출력하기\n",
        "with open('./sample.txt', 'r') as f:\n",
        "  data = [ int(line) for line in f.readlines()]\n",
        "  hap = sum(data)\n",
        "  avg = hap / len(data)\n",
        "  content = f\"{data}\\n총합은 {hap}입니다. \\n평균은 {avg}입니다.\"\n",
        "  print(content)\n",
        "\n",
        "with open('./result.txt', 'w') as f:\n",
        "  f.write(content)"
      ],
      "metadata": {
        "colab": {
          "base_uri": "https://localhost:8080/"
        },
        "id": "1pBu_zfd0bNc",
        "outputId": "3c6567f4-8699-4579-9625-85c2f64fe846"
      },
      "execution_count": 40,
      "outputs": [
        {
          "output_type": "stream",
          "name": "stdout",
          "text": [
            "[40, 14, 63, 90, 9, 99, 94, 83, 13, 49]\n",
            "총합은 554입니다. \n",
            "평균은 55.4입니다.\n"
          ]
        }
      ]
    }
  ]
}