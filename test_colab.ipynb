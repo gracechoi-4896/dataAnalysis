{
  "nbformat": 4,
  "nbformat_minor": 0,
  "metadata": {
    "colab": {
      "provenance": [],
      "toc_visible": true,
      "authorship_tag": "ABX9TyNesx9UJra4sLXlRpvddosV",
      "include_colab_link": true
    },
    "kernelspec": {
      "name": "python3",
      "display_name": "Python 3"
    },
    "language_info": {
      "name": "python"
    }
  },
  "cells": [
    {
      "cell_type": "markdown",
      "metadata": {
        "id": "view-in-github",
        "colab_type": "text"
      },
      "source": [
        "<a href=\"https://colab.research.google.com/github/gracechoi-4896/dataAnalysis/blob/main/test_colab.ipynb\" target=\"_parent\"><img src=\"https://colab.research.google.com/assets/colab-badge.svg\" alt=\"Open In Colab\"/></a>"
      ]
    },
    {
      "cell_type": "code",
      "execution_count": null,
      "metadata": {
        "id": "p2CRC0A5DoUT"
      },
      "outputs": [],
      "source": []
    },
    {
      "cell_type": "markdown",
      "source": [
        "# 제목\n",
        "## 제목\n",
        "### **제목**\n",
        "#### 제목\n",
        "\n",
        "\n",
        "1.  항목 추가\n",
        "2.  항목 추가\n",
        "\n",
        "\n",
        "------"
      ],
      "metadata": {
        "id": "QXgE4SrmEDkq"
      }
    },
    {
      "cell_type": "markdown",
      "source": [
        "## 1.제목"
      ],
      "metadata": {
        "id": "xhjfXAjzEcdp"
      }
    },
    {
      "cell_type": "code",
      "source": [
        "print('코랩에서 작성하는 코드')"
      ],
      "metadata": {
        "id": "K3rG8EW9E9zL"
      },
      "execution_count": null,
      "outputs": []
    },
    {
      "cell_type": "code",
      "source": [
        "a=10\n",
        "b=20\n",
        "print(a+b)\n",
        "print(a-b)\n",
        "print(a*b)\n",
        "print(a/b)"
      ],
      "metadata": {
        "id": "SJuRLo2XFDww"
      },
      "execution_count": null,
      "outputs": []
    },
    {
      "cell_type": "markdown",
      "source": [
        "## 2.파이썬 패키지 확인"
      ],
      "metadata": {
        "id": "HHRv77-WE2oR"
      }
    },
    {
      "cell_type": "code",
      "source": [
        "!pip list"
      ],
      "metadata": {
        "id": "Pb6iQhdoFcg5"
      },
      "execution_count": null,
      "outputs": []
    }
  ]
}